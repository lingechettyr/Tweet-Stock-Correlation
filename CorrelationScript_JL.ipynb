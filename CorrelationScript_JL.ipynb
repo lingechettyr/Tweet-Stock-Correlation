{
 "cells": [
  {
   "cell_type": "code",
   "execution_count": 1,
   "metadata": {},
   "outputs": [],
   "source": [
    "#Import relevant APIs\n",
    "import numpy as np\n",
    "import pandas as pd\n",
    "import tweepy as tw\n",
    "import yfinance as yf\n",
    "import sys\n",
    "import matplotlib.pyplot as plt\n",
    "%matplotlib inline\n",
    "from datetime import date\n",
    "from datetime import timedelta\n",
    "from sklearn.linear_model import LinearRegression"
   ]
  },
  {
   "cell_type": "markdown",
   "metadata": {},
   "source": [
    "Setting up Twitter Authentication:"
   ]
  },
  {
   "cell_type": "code",
   "execution_count": 2,
   "metadata": {},
   "outputs": [],
   "source": [
    "from tweepy import OAuthHandler\n",
    "from tweepy import API\n",
    "\n",
    "apiKey = 'sUY1UAhfmauoDAqodxPJCmE1d'\n",
    "apiSecret = 'nRrYuBn8X1MauIFfyznAXdwdLsTcVReytlIUpsfjiI2GncodX0'\n",
    "accessToken = '3295318197-LMzVBdXwZPbIgJU8Fd0ksjT8mEOES2HRYC2J2ha'\n",
    "accessSecret = 'RgqkfaXowXGk1JaKs0jTOIvGVjZbGnL32bsPk4DuzohBf'\n",
    "\n",
    "auth = OAuthHandler(apiKey, apiSecret)\n",
    "auth.set_access_token(accessToken, accessSecret)\n",
    "api = API(auth, wait_on_rate_limit = True)"
   ]
  },
  {
   "cell_type": "markdown",
   "metadata": {},
   "source": [
    "Getting Ticker data and storing in Pandas DataFrame, then dict with only percent change:"
   ]
  },
  {
   "cell_type": "code",
   "execution_count": 64,
   "metadata": {},
   "outputs": [],
   "source": [
    "tickers = ['TSLA','AAPL', 'FB', 'ZM']\n",
    "perChange = {}\n",
    "\n",
    "def storePercentChange():\n",
    "    global end_date\n",
    "    global days_prior\n",
    "    global start_date\n",
    "    end_date = date.today()\n",
    "    days_prior = input(\"Enter the number of days to retrieve market data (max 7 days, min 2 days):  \")\n",
    "    start_date = end_date - timedelta(days=int(days_prior))\n",
    "    weekno = start_date.weekday()\n",
    "    if weekno < 5 and int(days_prior) <= 7 and int(days_prior) >= 2:\n",
    "        stock_data = yf.download(tickers, start=start_date, end=end_date, progress=False, group_by='ticker')\n",
    "        for tick in tickers:\n",
    "            percent_change = (((stock_data[tick]['Close'])[-1] - (stock_data[tick]['Close'])[str(start_date)])/\n",
    "                (stock_data[tick]['Close'])[str(start_date)])*100\n",
    "            perChange[tick] = round(abs(percent_change), 2)\n",
    "    elif weekno >=5:\n",
    "        sys.exit(\"Input leads to a date on the weekend. Exiting...\")\n",
    "    elif int(days_prior) > 7 or int(days_prior) < 2:\n",
    "        sys.exit(\"Input does not match constraints. Exiting...\")"
   ]
  },
  {
   "cell_type": "markdown",
   "metadata": {},
   "source": [
    "Searching Twitter tweets using Tweepy:"
   ]
  },
  {
   "cell_type": "code",
   "execution_count": 12,
   "metadata": {},
   "outputs": [],
   "source": [
    "tweetsDict = {}\n",
    "\n",
    "def searchTweets():\n",
    "    public_tweets = []\n",
    "    count = 0\n",
    "    counter = 0\n",
    "    maxID = 0\n",
    "    for tick in tickers:\n",
    "        while counter < 10:\n",
    "            if maxID > 0:\n",
    "                public_tweets = api.search(q = '$'+tick+' -filter:retweets', count = 100, \n",
    "                                           since = start_date, until = end_date, max_id = maxID)\n",
    "            else:\n",
    "                public_tweets = api.search(q = '$'+tick+' -filter:retweets', count = 100, \n",
    "                                           since = start_date, until = end_date)\n",
    "            count += len(public_tweets)\n",
    "            maxID = public_tweets[-1].id\n",
    "            counter += 1\n",
    "        tweetsDict[tick] = count - 9 #Account for replicate tweets from using maxID\n",
    "        counter = 0\n",
    "        count = 0\n",
    "        maxID = 0"
   ]
  },
  {
   "cell_type": "markdown",
   "metadata": {},
   "source": [
    "Merging two dicts on Ticker axis, storing in DF and Plotting:"
   ]
  },
  {
   "cell_type": "code",
   "execution_count": 62,
   "metadata": {},
   "outputs": [],
   "source": [
    "def mergeAndPlot():\n",
    "    corr_list = [perChange, tweetsDict]\n",
    "    correlation = {}\n",
    "\n",
    "    for tick in perChange.keys():\n",
    "        correlation[tick] = tuple(correlation[tick] for correlation in corr_list)\n",
    "\n",
    "    initial_table = pd.DataFrame(correlation)\n",
    "    final_table = initial_table.transpose()\n",
    "    final_table.columns = ['% Change', 'Number of Tweets']\n",
    "    print(final_table)\n",
    "    final_table.plot(kind = 'scatter', x='Number of Tweets', y='% Change', title = 'Tweets vs. % Change', color = 'red')"
   ]
  },
  {
   "cell_type": "code",
   "execution_count": 65,
   "metadata": {},
   "outputs": [
    {
     "name": "stdin",
     "output_type": "stream",
     "text": [
      "Enter the number of days to retrieve market data (max 7 days, min 2 days):   5\n"
     ]
    },
    {
     "name": "stdout",
     "output_type": "stream",
     "text": [
      "      % Change  Number of Tweets\n",
      "TSLA     12.25             991.0\n",
      "AAPL      2.41             943.0\n",
      "FB        3.49             937.0\n",
      "ZM        9.61             987.0\n"
     ]
    },
    {
     "data": {
      "image/png": "[encoded data removed]",
      "text/plain": [
       "<Figure size 432x288 with 1 Axes>"
      ]
     },
     "metadata": {
      "needs_background": "light"
     },
     "output_type": "display_data"
    }
   ],
   "source": [
    "storePercentChange()\n",
    "searchTweets()\n",
    "mergeAndPlot()"
   ]
  },
  {
   "cell_type": "code",
   "execution_count": null,
   "metadata": {},
   "outputs": [],
   "source": []
  }
 ],
 "metadata": {
  "kernelspec": {
   "display_name": "Python 3",
   "language": "python",
   "name": "python3"
  },
  "language_info": {
   "codemirror_mode": {
    "name": "ipython",
    "version": 3
   },
   "file_extension": ".py",
   "mimetype": "text/x-python",
   "name": "python",
   "nbconvert_exporter": "python",
   "pygments_lexer": "ipython3",
   "version": "3.8.5"
  }
 },
 "nbformat": 4,
 "nbformat_minor": 4
}
