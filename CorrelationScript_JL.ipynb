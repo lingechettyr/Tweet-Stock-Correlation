{
 "cells": [
  {
   "cell_type": "code",
   "execution_count": 17,
   "metadata": {},
   "outputs": [],
   "source": [
    "#Import relevant APIs\n",
    "import numpy as np\n",
    "import pandas as pd\n",
    "import tweepy as tw\n",
    "import yfinance as yf\n",
    "import sys\n",
    "import matplotlib.pyplot as plt\n",
    "%matplotlib inline\n",
    "from datetime import date\n",
    "from datetime import timedelta\n",
    "from time import process_time"
   ]
  },
  {
   "cell_type": "markdown",
   "metadata": {},
   "source": [
    "Setting up Twitter Authentication:"
   ]
  },
  {
   "cell_type": "code",
   "execution_count": 18,
   "metadata": {},
   "outputs": [],
   "source": [
    "from tweepy import OAuthHandler\n",
    "from tweepy import API\n",
    "\n",
    "apiKey = 'sUY1UAhfmauoDAqodxPJCmE1d'\n",
    "apiSecret = 'nRrYuBn8X1MauIFfyznAXdwdLsTcVReytlIUpsfjiI2GncodX0'\n",
    "accessToken = '3295318197-LMzVBdXwZPbIgJU8Fd0ksjT8mEOES2HRYC2J2ha'\n",
    "accessSecret = 'RgqkfaXowXGk1JaKs0jTOIvGVjZbGnL32bsPk4DuzohBf'\n",
    "\n",
    "auth = OAuthHandler(apiKey, apiSecret)\n",
    "auth.set_access_token(accessToken, accessSecret)\n",
    "api = API(auth, wait_on_rate_limit = True)"
   ]
  },
  {
   "cell_type": "markdown",
   "metadata": {},
   "source": [
    "Storing methods: Getting Ticker data and storing in Pandas DataFrame, then dict with only percent change:"
   ]
  },
  {
   "cell_type": "code",
   "execution_count": 19,
   "metadata": {},
   "outputs": [],
   "source": [
    "tickers = ['TSLA','AAPL', 'FB', 'ZM', 'ADBE', 'ADI', 'ADP', 'ADSK', 'ALGN', 'ALXN', 'AMAT', 'AMD', 'AMGN', 'AMZN',\n",
    "          'ANSS', 'ASML', 'ATVI', 'AVGO', 'BIDU', 'BIIB', 'BKNG', 'BMRN', 'CDNS', 'CDW', 'CERN', 'CHKP', 'CHTR', 'CMCSA',\n",
    "          'COST', 'CPRT', 'CSCO', 'CSX', 'CTAS', 'CTSH', 'CTXS', 'DLTR', 'DOCU', 'DXCM', 'EA', 'EBAY', 'EXC', 'EXPE',\n",
    "          'FAST', 'FISV', 'FOX', 'GILD', 'GOOGL', 'IDXX', 'ILMN', 'INCY', 'INTC', 'INTU', 'ISRG', 'JD', 'KDP', 'KHC',\n",
    "          'KLAC', 'LBTYA', 'LRCX', 'LULU', 'MAR', 'MCHP', 'MDLZ', 'MELI', 'MNST', 'MRNA', 'MSFT', 'MU', 'MXIM',\n",
    "          'NFLX', 'NTES', 'NVDA', 'NXPI', 'ORLY', 'PAYX', 'PCAR', 'PDD', 'PEP', 'PYPL', 'QCOM', 'REGN', 'ROST', 'SBUX',\n",
    "          'SGEN', 'SIRI', 'SNPS', 'SPLK', 'SWKS', 'TCOM', 'TMUS', 'TTWO', 'TXN', 'ULTA', 'VRSK', 'VRSN', 'VRTX',\n",
    "          'WBA', 'WDAY', 'XEL', 'XLNX']\n",
    "perChange = {}\n",
    "\n",
    "def storePercentChange():\n",
    "    global end_date\n",
    "    global days_prior\n",
    "    global start_date\n",
    "    end_date = date.today()\n",
    "    days_prior = input(\"Enter the number of days to retrieve selected ticker & tweet data (max 7 days, min 2 days):  \")\n",
    "    start_date = end_date - timedelta(days=int(days_prior))\n",
    "    weekno = start_date.weekday()\n",
    "    if weekno < 5 and int(days_prior) <= 7 and int(days_prior) >= 2:\n",
    "        stock_data = yf.download(tickers, start=start_date, end=end_date, progress=False, group_by='ticker')\n",
    "        for tick in tickers:\n",
    "            percent_change = (((stock_data[tick]['Close'])[-1] - (stock_data[tick]['Close'])[str(start_date)])/\n",
    "                (stock_data[tick]['Close'])[str(start_date)])*100\n",
    "            perChange[tick] = round(abs(percent_change), 2)\n",
    "    elif weekno >=5:\n",
    "        sys.exit(\"Input leads to a date on the weekend. Exiting...\")\n",
    "    elif int(days_prior) > 7 or int(days_prior) < 2:\n",
    "        sys.exit(\"Input does not match constraints. Exiting...\")"
   ]
  },
  {
   "cell_type": "markdown",
   "metadata": {},
   "source": [
    "Sorting Algorithms for all tickers in NQ100:"
   ]
  },
  {
   "cell_type": "code",
   "execution_count": 20,
   "metadata": {},
   "outputs": [],
   "source": [
    "ticker_PerList = []\n",
    "\n",
    "def makePairs():\n",
    "    for index, (key,value) in enumerate(perChange.items()):\n",
    "        ticker_PerList.insert(index,(value,key))\n",
    "        \n",
    "def selectionSort(ticker):\n",
    "    length = len(ticker)\n",
    "    for index in range(length): \n",
    "        largest = index \n",
    "        for select in range(index+1, length): \n",
    "            if ticker[largest][0] < ticker[select][0]: \n",
    "                largest = select         \n",
    "        ticker[index], ticker[largest] = ticker[largest], ticker[index] \n",
    "        \n",
    "def heapify(ticker, n, index): \n",
    "    smallest = index  \n",
    "    left = 2 * index + 1      \n",
    "    right = 2 * index + 2     \n",
    "    if left < n and ticker[left][0] < ticker[smallest][0]: \n",
    "        smallest = left\n",
    "    if right < n and ticker[right][0] < ticker[smallest][0]: \n",
    "        smallest = right\n",
    "    if smallest != index: \n",
    "        ticker[index],ticker[smallest] = ticker[smallest],ticker[index]  # swap \n",
    "        heapify(ticker, n, smallest) \n",
    "\n",
    "def heapSort(ticker): \n",
    "    length = len(ticker) \n",
    "    for index in range(length // 2 - 1, -1, -1): \n",
    "        heapify(ticker, length, index) \n",
    "    for index in range( length-1, 0, -1): \n",
    "        ticker[index], ticker[0] = ticker[0], ticker[index]    \n",
    "        heapify(ticker, index, 0) "
   ]
  },
  {
   "cell_type": "markdown",
   "metadata": {},
   "source": [
    "Selecting Top 5 & Bottom 5 Tickers in terms of % change and storing in list and dict:"
   ]
  },
  {
   "cell_type": "code",
   "execution_count": 21,
   "metadata": {},
   "outputs": [],
   "source": [
    "perChangeSelected = {}\n",
    "\n",
    "def storeSelectTickers():\n",
    "    global selected_tickers\n",
    "    selected_tickers = ticker_PerList[:5]\n",
    "    selected_tickers += ticker_PerList[-5:]\n",
    "    \n",
    "def storeSelectPer():\n",
    "    for x in range(len(selected_tickers)):\n",
    "        perChangeSelected[selected_tickers[x][1]] = selected_tickers[x][0]"
   ]
  },
  {
   "cell_type": "markdown",
   "metadata": {},
   "source": [
    "Searching Twitter tweets using Tweepy:"
   ]
  },
  {
   "cell_type": "code",
   "execution_count": 22,
   "metadata": {},
   "outputs": [],
   "source": [
    "tweetsDict = {}\n",
    "\n",
    "def searchTweets():\n",
    "    public_tweets = []\n",
    "    count = 0\n",
    "    counter = 0\n",
    "    maxID = 0\n",
    "    for tick in perChangeSelected:\n",
    "        while counter < 10:\n",
    "            if maxID > 0:\n",
    "                public_tweets = api.search(q = '$'+tick+' -filter:retweets', count = 100, \n",
    "                                           since = start_date, until = end_date, max_id = maxID)\n",
    "            else:\n",
    "                public_tweets = api.search(q = '$'+tick+' -filter:retweets', count = 100, \n",
    "                                           since = start_date, until = end_date)\n",
    "            count += len(public_tweets)\n",
    "            maxID = public_tweets[-1].id\n",
    "            counter += 1\n",
    "        tweetsDict[tick] = count \n",
    "        counter = 0\n",
    "        count = 0\n",
    "        maxID = 0"
   ]
  },
  {
   "cell_type": "markdown",
   "metadata": {},
   "source": [
    "Merging two dicts on Ticker axis, storing in DF and Plotting:"
   ]
  },
  {
   "cell_type": "code",
   "execution_count": 23,
   "metadata": {},
   "outputs": [],
   "source": [
    "def mergeAndPlot():\n",
    "    corr_list = [perChangeSelected, tweetsDict]\n",
    "    correlation = {}\n",
    "\n",
    "    for tick in perChangeSelected.keys():\n",
    "        correlation[tick] = tuple(correlation[tick] for correlation in corr_list)\n",
    "    \n",
    "    initial_table = pd.DataFrame(correlation)\n",
    "    final_table = initial_table.transpose()\n",
    "    final_table.columns = ['% Change', 'Number of Tweets']\n",
    "    print(final_table)\n",
    "    final_table.plot(kind = 'scatter', x='Number of Tweets', y='% Change', title = 'Tweets vs. % Change')\n",
    "    "
   ]
  },
  {
   "cell_type": "code",
   "execution_count": 24,
   "metadata": {},
   "outputs": [
    {
     "name": "stdin",
     "output_type": "stream",
     "text": [
      "Enter the number of days to retrieve selected ticker & tweet data (max 7 days, min 2 days):   5\n"
     ]
    },
    {
     "name": "stdout",
     "output_type": "stream",
     "text": [
      "1. Selection Sort\n",
      "2. Heap Sort\n"
     ]
    },
    {
     "name": "stdin",
     "output_type": "stream",
     "text": [
      "Select sorting algorithm to sort tickers by % change in descending order (1 or 2):  2\n"
     ]
    },
    {
     "name": "stdout",
     "output_type": "stream",
     "text": [
      "       % Change  Number of Tweets\n",
      "SPLK      21.11             974.0\n",
      "MU        14.43             986.0\n",
      "ZM        14.29             981.0\n",
      "WBA       14.21             458.0\n",
      "LBTYA     11.10              44.0\n",
      "JD         0.19             745.0\n",
      "AMZN       0.17             987.0\n",
      "MSFT       0.14             980.0\n",
      "MRNA       0.14             979.0\n",
      "TTWO       0.12             168.0\n"
     ]
    },
    {
     "data": {
      "image/png": "[encoded data removed]",
      "text/plain": [
       "<Figure size 432x288 with 1 Axes>"
      ]
     },
     "metadata": {
      "needs_background": "light"
     },
     "output_type": "display_data"
    }
   ],
   "source": [
    "start_time = process_time()\n",
    "storePercentChange()\n",
    "\n",
    "print(\"1. Selection Sort\")\n",
    "print(\"2. Heap Sort\")\n",
    "select_sort = input(\"Select sorting algorithm to sort tickers by % change in descending order (1 or 2): \")\n",
    "\n",
    "if int(select_sort) == 1:\n",
    "    makePairs()\n",
    "    selectionSort(ticker_PerList)\n",
    "elif int(select_sort) == 2:\n",
    "    makePairs()\n",
    "    heapSort(ticker_PerList)\n",
    "\n",
    "storeSelectTickers()\n",
    "storeSelectPer()\n",
    "searchTweets()\n",
    "mergeAndPlot()"
   ]
  }
 ],
 "metadata": {
  "kernelspec": {
   "display_name": "Python 3",
   "language": "python",
   "name": "python3"
  },
  "language_info": {
   "codemirror_mode": {
    "name": "ipython",
    "version": 3
   },
   "file_extension": ".py",
   "mimetype": "text/x-python",
   "name": "python",
   "nbconvert_exporter": "python",
   "pygments_lexer": "ipython3",
   "version": "3.8.5"
  }
 },
 "nbformat": 4,
 "nbformat_minor": 4
}
