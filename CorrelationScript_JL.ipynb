{
 "cells": [
  {
   "cell_type": "code",
   "execution_count": 6,
   "metadata": {},
   "outputs": [],
   "source": [
    "#Import relevant APIs\n",
    "import numpy as np\n",
    "import pandas as pd\n",
    "import tweepy as tw\n",
    "import yfinance as yf\n",
    "import sys\n",
    "import matplotlib.pyplot as plt\n",
    "%matplotlib inline\n",
    "from datetime import date\n",
    "from datetime import timedelta\n",
    "from time import process_time"
   ]
  },
  {
   "cell_type": "markdown",
   "metadata": {},
   "source": [
    "Setting up Twitter Authentication:"
   ]
  },
  {
   "cell_type": "code",
   "execution_count": 2,
   "metadata": {},
   "outputs": [],
   "source": [
    "from tweepy import OAuthHandler\n",
    "from tweepy import API\n",
    "\n",
    "apiKey = 'sUY1UAhfmauoDAqodxPJCmE1d'\n",
    "apiSecret = 'nRrYuBn8X1MauIFfyznAXdwdLsTcVReytlIUpsfjiI2GncodX0'\n",
    "accessToken = '3295318197-LMzVBdXwZPbIgJU8Fd0ksjT8mEOES2HRYC2J2ha'\n",
    "accessSecret = 'RgqkfaXowXGk1JaKs0jTOIvGVjZbGnL32bsPk4DuzohBf'\n",
    "\n",
    "auth = OAuthHandler(apiKey, apiSecret)\n",
    "auth.set_access_token(accessToken, accessSecret)\n",
    "api = API(auth, wait_on_rate_limit = True)"
   ]
  },
  {
   "cell_type": "markdown",
   "metadata": {},
   "source": [
    "Storing methods: Getting Ticker data and storing in Pandas DataFrame, then dict with only percent change:"
   ]
  },
  {
   "cell_type": "code",
   "execution_count": 7,
   "metadata": {},
   "outputs": [],
   "source": [
    "tickers = ['TSLA','AAPL', 'FB', 'ZM', 'ADBE', 'ADI', 'ADP', 'ADSK', 'ALGN', 'ALXN', 'AMAT', 'AMD', 'AMGN', 'AMZN',\n",
    "          'ANSS', 'ASML', 'ATVI', 'AVGO', 'BIDU', 'BIIB', 'BKNG', 'BMRN', 'CDNS', 'CDW', 'CERN', 'CHKP', 'CHTR', 'CMCSA',\n",
    "          'COST', 'CPRT', 'CSCO', 'CSX', 'CTAS', 'CTSH', 'CTXS', 'DLTR', 'DOCU', 'DXCM', 'EA', 'EBAY', 'EXC', 'EXPE',\n",
    "          'FAST', 'FISV', 'FOX', 'GILD', 'GOOGL', 'IDXX', 'ILMN', 'INCY', 'INTC', 'INTU', 'ISRG', 'JD', 'KDP', 'KHC',\n",
    "          'KLAC', 'LBTYA', 'LRCX', 'LULU', 'MAR', 'MCHP', 'MDLZ', 'MELI', 'MNST', 'MRNA', 'MSFT', 'MU', 'MXIM',\n",
    "          'NFLX', 'NTES', 'NVDA', 'NXPI', 'ORLY', 'PAYX', 'PCAR', 'PDD', 'PEP', 'PYPL', 'QCOM', 'REGN', 'ROST', 'SBUX',\n",
    "          'SGEN', 'SIRI', 'SNPS', 'SPLK', 'SWKS', 'TCOM', 'TMUS', 'TTWO', 'TXN', 'ULTA', 'VRSK', 'VRSN', 'VRTX',\n",
    "          'WBA', 'WDAY', 'XEL', 'XLNX']\n",
    "perChange = {}\n",
    "perChangeSelected = {}\n",
    "selected_tickers = []\n",
    "\n",
    "def storePercentChange():\n",
    "    global end_date\n",
    "    global days_prior\n",
    "    global start_date\n",
    "    end_date = date.today()\n",
    "    days_prior = input(\"Enter the number of days to retrieve selected ticker & tweet data (max 7 days, min 2 days):  \")\n",
    "    start_date = end_date - timedelta(days=int(days_prior))\n",
    "    weekno = start_date.weekday()\n",
    "    if weekno < 5 and int(days_prior) <= 7 and int(days_prior) >= 2:\n",
    "        stock_data = yf.download(tickers, start=start_date, end=end_date, progress=False, group_by='ticker')\n",
    "        for tick in tickers:\n",
    "            percent_change = (((stock_data[tick]['Close'])[-1] - (stock_data[tick]['Close'])[str(start_date)])/\n",
    "                (stock_data[tick]['Close'])[str(start_date)])*100\n",
    "            perChange[tick] = round(abs(percent_change), 2)\n",
    "    elif weekno >=5:\n",
    "        sys.exit(\"Input leads to a date on the weekend. Exiting...\")\n",
    "    elif int(days_prior) > 7 or int(days_prior) < 2:\n",
    "        sys.exit(\"Input does not match constraints. Exiting...\")"
   ]
  },
  {
   "cell_type": "markdown",
   "metadata": {},
   "source": [
    "Sorting Algorithms for all tickers in NQ100:"
   ]
  },
  {
   "cell_type": "code",
   "execution_count": null,
   "metadata": {},
   "outputs": [],
   "source": []
  },
  {
   "cell_type": "markdown",
   "metadata": {},
   "source": [
    "Selecting Top 5 & Bottom 5 Tickers in terms of % change and storing in list and dict:"
   ]
  },
  {
   "cell_type": "code",
   "execution_count": null,
   "metadata": {},
   "outputs": [],
   "source": []
  },
  {
   "cell_type": "markdown",
   "metadata": {},
   "source": [
    "Searching Twitter tweets using Tweepy:"
   ]
  },
  {
   "cell_type": "code",
   "execution_count": 4,
   "metadata": {},
   "outputs": [],
   "source": [
    "tweetsDict = {}\n",
    "\n",
    "def searchTweets():\n",
    "    public_tweets = []\n",
    "    count = 0\n",
    "    counter = 0\n",
    "    maxID = 0\n",
    "    for tick in selected_tickers:\n",
    "        while counter < 10:\n",
    "            if maxID > 0:\n",
    "                public_tweets = api.search(q = '$'+tick+' -filter:retweets', count = 100, \n",
    "                                           since = start_date, until = end_date, max_id = maxID)\n",
    "            else:\n",
    "                public_tweets = api.search(q = '$'+tick+' -filter:retweets', count = 100, \n",
    "                                           since = start_date, until = end_date)\n",
    "            count += len(public_tweets)\n",
    "            maxID = public_tweets[-1].id\n",
    "            counter += 1\n",
    "        tweetsDict[tick] = count \n",
    "        counter = 0\n",
    "        count = 0\n",
    "        maxID = 0"
   ]
  },
  {
   "cell_type": "markdown",
   "metadata": {},
   "source": [
    "Merging two dicts on Ticker axis, storing in DF and Plotting:"
   ]
  },
  {
   "cell_type": "code",
   "execution_count": 5,
   "metadata": {},
   "outputs": [],
   "source": [
    "def mergeAndPlot():\n",
    "    corr_list = [perChange, tweetsDict]\n",
    "    correlation = {}\n",
    "\n",
    "    for tick in perChange.keys():\n",
    "        correlation[tick] = tuple(correlation[tick] for correlation in corr_list)\n",
    "    \n",
    "    initial_table = pd.DataFrame(correlation)\n",
    "    final_table = initial_table.transpose()\n",
    "    final_table.columns = ['% Change', 'Number of Tweets']\n",
    "    print(final_table)\n",
    "    final_table.plot(kind = 'scatter', x='Number of Tweets', y='% Change', title = 'Tweets vs. % Change')\n",
    "    "
   ]
  },
  {
   "cell_type": "code",
   "execution_count": 8,
   "metadata": {},
   "outputs": [
    {
     "name": "stdin",
     "output_type": "stream",
     "text": [
      "Enter the number of days to retrieve selected ticker & tweet data (max 7 days, min 2 days):   5\n"
     ]
    },
    {
     "name": "stdout",
     "output_type": "stream",
     "text": [
      "{'TSLA': 5.54, 'AAPL': 2.69, 'FB': 0.99, 'ZM': 14.29, 'ADBE': 1.57, 'ADI': 3.52, 'ADP': 0.52, 'ADSK': 0.8, 'ALGN': 8.4, 'ALXN': 1.31, 'AMAT': 7.71, 'AMD': 1.49, 'AMGN': 3.23, 'AMZN': 0.17, 'ANSS': 1.6, 'ASML': 6.09, 'ATVI': 1.76, 'AVGO': 2.52, 'BIDU': 3.65, 'BIIB': 2.37, 'BKNG': 4.76, 'BMRN': 1.16, 'CDNS': 1.75, 'CDW': 2.31, 'CERN': 0.73, 'CHKP': 2.16, 'CHTR': 2.88, 'CMCSA': 2.89, 'COST': 4.68, 'CPRT': 2.91, 'CSCO': 3.16, 'CSX': 2.0, 'CTAS': 2.3, 'CTSH': 3.75, 'CTXS': 5.33, 'DLTR': 2.99, 'DOCU': 6.73, 'DXCM': 8.87, 'EA': 0.74, 'EBAY': 1.07, 'EXC': 0.34, 'EXPE': 3.29, 'FAST': 2.83, 'FISV': 1.69, 'FOX': 3.08, 'GILD': 1.47, 'GOOGL': 3.95, 'IDXX': 0.83, 'ILMN': 8.87, 'INCY': 1.66, 'INTC': 7.53, 'INTU': 4.71, 'ISRG': 7.48, 'JD': 0.19, 'KDP': 0.26, 'KHC': 3.58, 'KLAC': 4.66, 'LBTYA': 11.1, 'LRCX': 10.45, 'LULU': 1.85, 'MAR': 6.89, 'MCHP': 7.33, 'MDLZ': 2.75, 'MELI': 0.26, 'MNST': 3.14, 'MRNA': 0.14, 'MSFT': 0.14, 'MU': 14.43, 'MXIM': 4.06, 'NFLX': 1.55, 'NTES': 3.31, 'NVDA': 1.17, 'NXPI': 3.52, 'ORLY': 1.71, 'PAYX': 1.42, 'PCAR': 0.41, 'PDD': 5.44, 'PEP': 1.12, 'PYPL': 1.7, 'QCOM': 7.1, 'REGN': 4.57, 'ROST': 7.18, 'SBUX': 4.35, 'SGEN': 5.24, 'SIRI': 2.31, 'SNPS': 4.12, 'SPLK': 21.11, 'SWKS': 6.38, 'TCOM': 4.38, 'TMUS': 0.86, 'TTWO': 0.12, 'TXN': 3.27, 'ULTA': 1.5, 'VRSK': 1.33, 'VRSN': 1.63, 'VRTX': 0.25, 'WBA': 14.21, 'WDAY': 1.16, 'XEL': 2.39, 'XLNX': 1.62}\n"
     ]
    }
   ],
   "source": [
    "storePercentChange()\n",
    "print(perChange)\n",
    "#searchTweets()\n",
    "#mergeAndPlot()"
   ]
  }
 ],
 "metadata": {
  "kernelspec": {
   "display_name": "Python 3",
   "language": "python",
   "name": "python3"
  },
  "language_info": {
   "codemirror_mode": {
    "name": "ipython",
    "version": 3
   },
   "file_extension": ".py",
   "mimetype": "text/x-python",
   "name": "python",
   "nbconvert_exporter": "python",
   "pygments_lexer": "ipython3",
   "version": "3.8.5"
  }
 },
 "nbformat": 4,
 "nbformat_minor": 4
}
