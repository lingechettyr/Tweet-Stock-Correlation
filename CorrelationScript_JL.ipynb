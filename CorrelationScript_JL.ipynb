{
 "cells": [
  {
   "cell_type": "code",
   "execution_count": 14,
   "metadata": {},
   "outputs": [],
   "source": [
    "#Import relevant APIs\n",
    "import numpy as np\n",
    "import pandas as pd\n",
    "import tweepy as tw\n",
    "import yfinance as yf\n",
    "import sys\n",
    "import matplotlib.pyplot as plt\n",
    "%matplotlib inline\n",
    "from datetime import date\n",
    "from datetime import timedelta\n",
    "from sklearn.linear_model import LinearRegression"
   ]
  },
  {
   "cell_type": "markdown",
   "metadata": {},
   "source": [
    "Setting up Twitter Authentication:"
   ]
  },
  {
   "cell_type": "code",
   "execution_count": 2,
   "metadata": {},
   "outputs": [],
   "source": [
    "from tweepy import OAuthHandler\n",
    "from tweepy import API\n",
    "\n",
    "apiKey = 'sUY1UAhfmauoDAqodxPJCmE1d'\n",
    "apiSecret = 'nRrYuBn8X1MauIFfyznAXdwdLsTcVReytlIUpsfjiI2GncodX0'\n",
    "accessToken = '3295318197-LMzVBdXwZPbIgJU8Fd0ksjT8mEOES2HRYC2J2ha'\n",
    "accessSecret = 'RgqkfaXowXGk1JaKs0jTOIvGVjZbGnL32bsPk4DuzohBf'\n",
    "\n",
    "auth = OAuthHandler(apiKey, apiSecret)\n",
    "auth.set_access_token(accessToken, accessSecret)\n",
    "api = API(auth, wait_on_rate_limit = True)"
   ]
  },
  {
   "cell_type": "markdown",
   "metadata": {},
   "source": [
    "Getting Ticker data and storing in Pandas DataFrame, then dict with only percent change:"
   ]
  },
  {
   "cell_type": "code",
   "execution_count": 19,
   "metadata": {},
   "outputs": [
    {
     "name": "stdin",
     "output_type": "stream",
     "text": [
      "Enter the number of days to retrieve market data (max 7 days, min 2 days):   5\n"
     ]
    }
   ],
   "source": [
    "end_date = date.today()\n",
    "days_prior = input(\"Enter the number of days to retrieve market data (max 7 days, min 2 days):  \")\n",
    "start_date = end_date - timedelta(days=int(days_prior))\n",
    "weekno = start_date.weekday()\n",
    "tickers = ['TSLA','AAPL', 'FB']\n",
    "perChange = {}\n",
    "\n",
    "if weekno < 5 and int(days_prior) <= 7 and int(days_prior) >= 2:\n",
    "    stock_data = yf.download(tickers, start=start_date, end=end_date, progress=False, group_by='ticker')\n",
    "    for tick in tickers:\n",
    "        percent_change = (((stock_data[tick]['Close'])[-1] - (stock_data[tick]['Close'])[str(start_date)])/\n",
    "            (stock_data[tick]['Close'])[str(start_date)])*100\n",
    "        perChange[tick] = round(abs(percent_change), 2)\n",
    "elif weekno >=5:\n",
    "    sys.exit(\"Input leads to a date on the weekend. Exiting...\")\n",
    "elif int(days_prior) > 7 or int(days_prior) < 2:\n",
    "    sys.exit(\"Input does not match constraints. Exiting...\")"
   ]
  },
  {
   "cell_type": "markdown",
   "metadata": {},
   "source": [
    "Searching Twitter tweets using Tweepy:"
   ]
  },
  {
   "cell_type": "code",
   "execution_count": 20,
   "metadata": {},
   "outputs": [],
   "source": [
    "public_tweets = []\n",
    "tweetCount = []\n",
    "tweetsDict = {}\n",
    "count = 0\n",
    "counter = 0\n",
    "maxID = 0\n",
    "\n",
    "for tick in tickers:\n",
    "    while counter < 10:\n",
    "        if maxID > 0:\n",
    "            public_tweets = api.search(q = '$'+tick+' -filter:retweets', count = 100, since = start_date, until = end_date, max_id = maxID)\n",
    "        else:\n",
    "            public_tweets = api.search(q = '$'+tick+' -filter:retweets', count = 100, since = start_date, until = end_date)\n",
    "        count += len(public_tweets)\n",
    "        maxID = public_tweets[len(public_tweets) - 1].id\n",
    "        counter += 1\n",
    "    tweetCount.append(count)\n",
    "    tweetsDict[tick] = count - 9 #Account for replicate tweets from using maxID\n",
    "    counter = 0\n",
    "    count = 0\n",
    "    maxID = 0"
   ]
  },
  {
   "cell_type": "markdown",
   "metadata": {},
   "source": [
    "Merging two dicts on Ticker axis, storing in DF and Plotting:"
   ]
  },
  {
   "cell_type": "code",
   "execution_count": 40,
   "metadata": {},
   "outputs": [
    {
     "data": {
      "text/html": [
       "<div>\n",
       "<style scoped>\n",
       "    .dataframe tbody tr th:only-of-type {\n",
       "        vertical-align: middle;\n",
       "    }\n",
       "\n",
       "    .dataframe tbody tr th {\n",
       "        vertical-align: top;\n",
       "    }\n",
       "\n",
       "    .dataframe thead th {\n",
       "        text-align: right;\n",
       "    }\n",
       "</style>\n",
       "<table border=\"1\" class=\"dataframe\">\n",
       "  <thead>\n",
       "    <tr style=\"text-align: right;\">\n",
       "      <th></th>\n",
       "      <th>% Change</th>\n",
       "      <th>Number of Tweets</th>\n",
       "    </tr>\n",
       "  </thead>\n",
       "  <tbody>\n",
       "    <tr>\n",
       "      <th>TSLA</th>\n",
       "      <td>12.25</td>\n",
       "      <td>991.0</td>\n",
       "    </tr>\n",
       "    <tr>\n",
       "      <th>AAPL</th>\n",
       "      <td>2.41</td>\n",
       "      <td>943.0</td>\n",
       "    </tr>\n",
       "    <tr>\n",
       "      <th>FB</th>\n",
       "      <td>3.49</td>\n",
       "      <td>937.0</td>\n",
       "    </tr>\n",
       "  </tbody>\n",
       "</table>\n",
       "</div>"
      ],
      "text/plain": [
       "      % Change  Number of Tweets\n",
       "TSLA     12.25             991.0\n",
       "AAPL      2.41             943.0\n",
       "FB        3.49             937.0"
      ]
     },
     "execution_count": 40,
     "metadata": {},
     "output_type": "execute_result"
    }
   ],
   "source": [
    "corr_list = [perChange, tweetsDict]\n",
    "correlation = {}\n",
    "\n",
    "for tick in perChange.keys():\n",
    "    correlation[tick] = tuple(correlation[tick] for correlation in corr_list)\n",
    "    \n",
    "initial_table = pd.DataFrame(correlation)\n",
    "final_table = initial_table.transpose()\n",
    "final_table.columns = ['% Change', 'Number of Tweets']\n",
    "final_table\n"
   ]
  },
  {
   "cell_type": "code",
   "execution_count": 45,
   "metadata": {},
   "outputs": [
    {
     "data": {
      "text/plain": [
       "<AxesSubplot:title={'center':'Tweets vs. % Change'}, xlabel='Number of Tweets', ylabel='% Change'>"
      ]
     },
     "execution_count": 45,
     "metadata": {},
     "output_type": "execute_result"
    },
    {
     "data": {
      "image/png": "[encoded data removed]",
      "text/plain": [
       "<Figure size 432x288 with 1 Axes>"
      ]
     },
     "metadata": {
      "needs_background": "light"
     },
     "output_type": "display_data"
    }
   ],
   "source": [
    "final_table.plot(kind = 'scatter', x='Number of Tweets', y='% Change', title = 'Tweets vs. % Change', color = 'red')"
   ]
  }
 ],
 "metadata": {
  "kernelspec": {
   "display_name": "Python 3",
   "language": "python",
   "name": "python3"
  },
  "language_info": {
   "codemirror_mode": {
    "name": "ipython",
    "version": 3
   },
   "file_extension": ".py",
   "mimetype": "text/x-python",
   "name": "python",
   "nbconvert_exporter": "python",
   "pygments_lexer": "ipython3",
   "version": "3.8.5"
  }
 },
 "nbformat": 4,
 "nbformat_minor": 4
}
